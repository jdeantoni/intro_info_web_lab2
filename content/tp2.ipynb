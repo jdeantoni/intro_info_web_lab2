{
  "metadata": {
    "language_info": {
      "codemirror_mode": {
        "name": "python",
        "version": 3
      },
      "file_extension": ".py",
      "mimetype": "text/x-python",
      "name": "python",
      "nbconvert_exporter": "python",
      "pygments_lexer": "ipython3",
      "version": "3.8"
    },
    "kernelspec": {
      "name": "python",
      "display_name": "Python (Pyodide)",
      "language": "python"
    }
  },
  "nbformat_minor": 4,
  "nbformat": 4,
  "cells": [
    {
      "cell_type": "markdown",
      "source": "# TP numéro 2: Manipulation d'images",
      "metadata": {}
    },
    {
      "cell_type": "markdown",
      "source": "## chargement et affichage d'images ppm\n\nafin de pouvoir manipuler plus facilement des images ppm, vous allez importer le module iiwHelper que je vous fournis avec le sujet. Pour ceci exécuter la cellule ci dessous",
      "metadata": {}
    },
    {
      "cell_type": "code",
      "source": "import cv2\nfrom iiwHelper import *",
      "metadata": {
        "tags": [],
        "trusted": true
      },
      "execution_count": null,
      "outputs": []
    },
    {
      "cell_type": "code",
      "source": "img :Image = loadImage(\"./pict/EU_propre.ppm\")\n\nindex: int = int(0)\n\nwhile (index < len(img.pixels)):\n    p: Pixel = img.pixels[index]\n    v: int = int(0.2126 * p.r + 0.7152 * p.g + 0.0722 * p.b)\n    p.r = v\n    p.g = v\n    p.b = v\n    index = index + 1\n    \nsaveImage(img,\"./pict/modified/EU_gray.ppm\")\nshowImageFromPath(\"./pict/modified/EU_gray.ppm\")",
      "metadata": {
        "trusted": true
      },
      "execution_count": null,
      "outputs": []
    },
    {
      "cell_type": "markdown",
      "source": "## Éclaircissement bords d'image",
      "metadata": {
        "trusted": true
      }
    },
    {
      "cell_type": "code",
      "source": "img :Image = loadImage(\"./pict/EU_propre.ppm\")\n\npixelsToChange: list[Pixel] = []\nindex: int = int(0)\nindexLastPix: int = len(img.pixels)-1\n\nwhile (index < img.width):\n    pixelsToChange = pixelsToChange + [img.pixels[index], img.pixels[index+img.width], img.pixels[index+2*img.width], img.pixels[index+3*img.width]]\n    pixelsToChange = pixelsToChange + [img.pixels[indexLastPix-index], img.pixels[indexLastPix-(index+img.width)], img.pixels[indexLastPix-(index+2*img.width)], img.pixels[indexLastPix-(index+3*img.width)]]\n    index = index + 1\n\nindex = 4\n\nwhile (index < (img.height-4)):\n    pixelsToChange = pixelsToChange + [img.pixels[index*img.width], img.pixels[index*img.width+1], img.pixels[index*img.width+2], img.pixels[index*img.width+3]]\n    pixelsToChange = pixelsToChange + [img.pixels[index*img.width+(img.width-1)], img.pixels[index*img.width+(img.width-2)], img.pixels[index*img.width+(img.width-3)], img.pixels[index*img.width+(img.width-4)]]\n    index = index + 1\n    \nindex = 0    \nwhile (index < len(pixelsToChange)):\n    p: Pixel = pixelsToChange[index]\n    if (p.r < 215):\n        p.r = p.r + 40\n    else:\n        p.r = 255\n    if (p.g < 215):\n        p.g = p.g + 40\n    else:\n        p.g = 255\n    if (p.b < 215):\n        p.b = p.b + 40\n    else:\n        p.b = 255\n    index = index + 1\n    \nsaveImage(img,\"./pict/modified/EU_propre.ppm\")\nshowImageFromPath(\"./pict/modified/EU_propre.ppm\")",
      "metadata": {
        "trusted": true
      },
      "execution_count": 15,
      "outputs": [
        {
          "ename": "<class 'FileNotFoundError'>",
          "evalue": "[Errno 44] No such file or directory: './pict/modified/EU_propre.ppm'",
          "traceback": [
            "\u001b[0;31m---------------------------------------------------------------------------\u001b[0m",
            "\u001b[0;31mFileNotFoundError\u001b[0m                         Traceback (most recent call last)",
            "Cell \u001b[0;32mIn [15], line 36\u001b[0m\n\u001b[1;32m     33\u001b[0m         p\u001b[38;5;241m.\u001b[39mb \u001b[38;5;241m=\u001b[39m \u001b[38;5;241m255\u001b[39m\n\u001b[1;32m     34\u001b[0m     index \u001b[38;5;241m=\u001b[39m index \u001b[38;5;241m+\u001b[39m \u001b[38;5;241m1\u001b[39m\n\u001b[0;32m---> 36\u001b[0m saveImage(img,\u001b[38;5;124m\"\u001b[39m\u001b[38;5;124m./pict/modified/EU_propre.ppm\u001b[39m\u001b[38;5;124m\"\u001b[39m)\n\u001b[1;32m     37\u001b[0m showImageFromPath(\u001b[38;5;124m\"\u001b[39m\u001b[38;5;124m./pict/modified/EU_propre.ppm\u001b[39m\u001b[38;5;124m\"\u001b[39m)\n",
            "File \u001b[0;32m/drive/iiwHelper.py:70\u001b[0m, in \u001b[0;36msaveImage\u001b[0;34m(img, path)\u001b[0m\n\u001b[1;32m     69\u001b[0m \u001b[38;5;28;01mdef\u001b[39;00m \u001b[38;5;21msaveImage\u001b[39m(img,path):\n\u001b[0;32m---> 70\u001b[0m     f \u001b[38;5;241m=\u001b[39m \u001b[38;5;28;43mopen\u001b[39;49m\u001b[43m(\u001b[49m\u001b[43mpath\u001b[49m\u001b[43m,\u001b[49m\u001b[43m \u001b[49m\u001b[38;5;124;43m\"\u001b[39;49m\u001b[38;5;124;43mw+\u001b[39;49m\u001b[38;5;124;43m\"\u001b[39;49m\u001b[43m)\u001b[49m\n\u001b[1;32m     71\u001b[0m     f\u001b[38;5;241m.\u001b[39mwrite(\u001b[38;5;124m\"\u001b[39m\u001b[38;5;124mP3\u001b[39m\u001b[38;5;130;01m\\n\u001b[39;00m\u001b[38;5;124m\"\u001b[39m)\n\u001b[1;32m     72\u001b[0m     f\u001b[38;5;241m.\u001b[39mwrite(\u001b[38;5;124m\"\u001b[39m\u001b[38;5;124m#created by my wonderfull app !\u001b[39m\u001b[38;5;130;01m\\n\u001b[39;00m\u001b[38;5;124m\"\u001b[39m)\n",
            "\u001b[0;31mFileNotFoundError\u001b[0m: [Errno 44] No such file or directory: './pict/modified/EU_propre.ppm'"
          ],
          "output_type": "error"
        }
      ]
    }
  ]
}