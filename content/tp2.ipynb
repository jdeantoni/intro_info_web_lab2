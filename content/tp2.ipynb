{
  "metadata": {
    "language_info": {
      "codemirror_mode": {
        "name": "python",
        "version": 3
      },
      "file_extension": ".py",
      "mimetype": "text/x-python",
      "name": "python",
      "nbconvert_exporter": "python",
      "pygments_lexer": "ipython3",
      "version": "3.8"
    },
    "kernelspec": {
      "name": "python",
      "display_name": "Python (Pyodide)",
      "language": "python"
    }
  },
  "nbformat_minor": 4,
  "nbformat": 4,
  "cells": [
    {
      "cell_type": "markdown",
      "source": "# TP numéro 2: Manipulation d'images",
      "metadata": {}
    },
    {
      "cell_type": "markdown",
      "source": "## chargement et affichage d'images ppm\n\nafin de pouvoir manipuler plus facilement des images ppm, vous allez importer le module iiwHelper que je vous fournis avec le sujet. Pour ceci exécuter la cellule ci dessous",
      "metadata": {}
    },
    {
      "cell_type": "code",
      "source": "import cv2\nfrom iiwHelper import *",
      "metadata": {
        "tags": [],
        "trusted": true
      },
      "execution_count": 6,
      "outputs": [
        {
          "name": "stdout",
          "text": "i1 vaut 10\ni1 vaut 11\ni2 vaut 175\ni2 vaut 90\ni1 + i2 vaut 101\nJulien\nHello Julien!\nSalut Julien!\nH\n",
          "output_type": "stream"
        }
      ]
    }
  ]
}