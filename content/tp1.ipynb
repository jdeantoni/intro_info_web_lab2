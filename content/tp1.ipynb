{
  "metadata": {
    "language_info": {
      "codemirror_mode": {
        "name": "python",
        "version": 3
      },
      "file_extension": ".py",
      "mimetype": "text/x-python",
      "name": "python",
      "nbconvert_exporter": "python",
      "pygments_lexer": "ipython3",
      "version": "3.8"
    },
    "kernelspec": {
      "name": "python",
      "display_name": "Python (Pyodide)",
      "language": "python"
    }
  },
  "nbformat_minor": 4,
  "nbformat": 4,
  "cells": [
    {
      "cell_type": "markdown",
      "source": "# TP numéro 1: prise en main de l'environnement",
      "metadata": {}
    },
    {
      "cell_type": "markdown",
      "source": "# premier pas avec notebook\n\nVous êtes actuellement sur une page web qui intègre un environnementde développement appelé *jupyter notebook*. Il s'agit d'un environnement composés de cellules (comme celle qui contient ce texte par exemple). Dans notre environnement les cellules seront soit du texte (formaté ou pas), soit du code Python.\n\nVous pouvez exécuter une cellule contenant du code Python et le résultat de l'exécution s'affiche sur la droite de la cellule. Il n'est pas nécessaire qu'un programme affiche quoi que ce soit.\n\nExemple simple: cliquez sur la cellule ci dessous. Vous pouvez l'éditer. Vous pouvez également l'exécuter en cliquant sur l'icône ![image.png](attachment:180832dc-c911-4ca6-a3b7-73fd14707479.png) de la barre d'outil ci dessus. Pour plus de simplicité vous pouvez aussi taper sur ctrl+enter pour exécuter la cellule dans laquelle vous êtes\n\nExécutez la cellule ci dessous.",
      "metadata": {
        "tags": []
      },
      "attachments": {
        "180832dc-c911-4ca6-a3b7-73fd14707479.png": {
          "image/png": "[encoded data removed]"
        }
      }
    },
    {
      "cell_type": "code",
      "source": "i: int = int(0)",
      "metadata": {
        "trusted": true
      },
      "execution_count": 1,
      "outputs": []
    },
    {
      "cell_type": "markdown",
      "source": "&rarr; Comme vous pouvez le constater, il semble qu'il ne se passe rien. C'est simplement parceque le programme n'affiche rien. Vous pouvez affichier le contenu d'un variable ou du texte avec la *fonction print*. \n\nUne fonction a un nom (ici *print*) et peut être paramétrée par un ensemble de valeurs passées entre parenthèse lors de son utilisation (on appelle ces valeurs des paramètres). Une fonction a alors un comportement arbitraire, fonction des paramètres. \n\nLa fonction *print* est très pratique et **définie par défaut dans python**. Elle permet d'afficher la valeur des paramètres à l'utilisateur. La cellule suivante vous montre quelques exemple d'utilisation de cette fonction. Allez sur la cellule suivante et exécutez là. ",
      "metadata": {}
    },
    {
      "cell_type": "code",
      "source": "print('Hello World')\n\ni: int= int(0)\nprint('la valeur de i est:')\nprint(i)\n\nprint('la valeur de i est:',i)\n\ngreeting: str = str('Hello')\nprint(greeting, ' world')",
      "metadata": {
        "trusted": true
      },
      "execution_count": 2,
      "outputs": [
        {
          "name": "stdout",
          "text": "Hello World\nla valeur de i est:\n0\nla valeur de i est: 0\nHello  world\n",
          "output_type": "stream"
        }
      ]
    },
    {
      "cell_type": "markdown",
      "source": "&rarr; Cette fois vous pouvez voir l'affichage résultant de l'exécution de la cellule sur la droite de l'écran. Comme vous pouvez le constater on peut passer à la fonction *print* un ou plusieurs paramètres séparés par des virgules. Les paramètres peuvent être des variables ou bien des chaines de caractères. Il existe de nombreuses manières de faire des utilisations avancées de la fonction *print* mais ce ne sera pas abordé dans ce TP. Les curieuses et les curieux pourront, si ils le désirent, aller voir, en dehors des heures de TP, cette partie de cours dédiée à l'utilisation de *print*: https://python.sdv.univ-paris-diderot.fr/03_affichage/   ",
      "metadata": {}
    },
    {
      "cell_type": "markdown",
      "source": "**Vous devez faire attention à l'ordre d'exécution des cellules**. Vous n'êtes pas obligé de les exécuter dans l'ordre où elles apparaissent. Cependant c'est une bonne pratique. Les variables déclarées dans une cellule sont accessibles dans les cellules qui sont exécutées par la suite. (Si vous avez un doute, le nombre entre crochets à gauche de la cellule vous donne l'ordre d'exécution des cellules.) ",
      "metadata": {}
    },
    {
      "cell_type": "markdown",
      "source": "Vous pouvez réinitialiser le *notebook* en cliquant sur le bouton ![image.png](attachment:b7f1274e-9de0-440b-8786-c0e2e2d272e8.png). Cela pour effet d'effacer toutes les variables de la mémoire et de repartir dans un état où aucune cellule n'a été exécutée. (Malheureusement les numéros entre crochets ne sont pas remis à jour).\n\nPar exemple, dans un premier temps, exécutez consécutivement les deux cellules suivantes:",
      "metadata": {},
      "attachments": {
        "b7f1274e-9de0-440b-8786-c0e2e2d272e8.png": {
          "image/png": "[encoded data removed]"
        }
      }
    },
    {
      "cell_type": "code",
      "source": "variable1 : int = int(0)",
      "metadata": {
        "trusted": true
      },
      "execution_count": 3,
      "outputs": []
    },
    {
      "cell_type": "code",
      "source": "print('variable1 vaut: ',variable1)",
      "metadata": {
        "trusted": true
      },
      "execution_count": 4,
      "outputs": [
        {
          "name": "stdout",
          "text": "variable1 vaut:  0\n",
          "output_type": "stream"
        }
      ]
    },
    {
      "cell_type": "markdown",
      "source": "&rarr; Vous ne devriez pas avoir de messages d'erreur car la cellule qui fait l'affichage de *variable1* a été exécutée après celle qui fait la déclaration de *variable1*. \n\nSi vous réinitialisez le notebook et que vous exécutez uniquement la cellule précédente, alors vous allez avoir une erreur qui stipule que la variable *variable1* n'est pas définie.",
      "metadata": {}
    },
    {
      "cell_type": "markdown",
      "source": "#### Raccourcis pratiques\n\nCtrl + Enter &rarr; exécute la cellule que l'on est en train d'éditer \n\nShift + Enter &rarr; sélectionne la prochaine cellule si elle existe, sinon la crée\n\nTab &rarr; lors de l'édition de code, presser la touche tab permet de demander à l'éditeur de proposer les noms de variables existants: ![image.png](attachment:98691fbd-6804-4bf6-9ee5-98f56134b039.png)",
      "metadata": {},
      "attachments": {
        "98691fbd-6804-4bf6-9ee5-98f56134b039.png": {
          "image/png": "[encoded data removed]"
        }
      }
    },
    {
      "cell_type": "code",
      "source": "variable2: int = int(0)\n\n\n#mettez le curseur après 'vari' et pressez tab\nvari",
      "metadata": {
        "trusted": true
      },
      "execution_count": 5,
      "outputs": [
        {
          "ename": "<class 'NameError'>",
          "evalue": "name 'vari' is not defined",
          "traceback": [
            "\u001b[0;31m---------------------------------------------------------------------------\u001b[0m",
            "\u001b[0;31mNameError\u001b[0m                                 Traceback (most recent call last)",
            "Cell \u001b[0;32mIn [5], line 5\u001b[0m\n\u001b[1;32m      1\u001b[0m variable2: \u001b[38;5;28mint\u001b[39m \u001b[38;5;241m=\u001b[39m \u001b[38;5;28mint\u001b[39m(\u001b[38;5;241m0\u001b[39m)\n\u001b[1;32m      4\u001b[0m \u001b[38;5;66;03m#mettez le curseur après 'vari' et pressez tab\u001b[39;00m\n\u001b[0;32m----> 5\u001b[0m \u001b[43mvari\u001b[49m\n",
            "\u001b[0;31mNameError\u001b[0m: name 'vari' is not defined"
          ],
          "output_type": "error"
        }
      ]
    },
    {
      "cell_type": "markdown",
      "source": "## Premiers programmes",
      "metadata": {}
    },
    {
      "cell_type": "markdown",
      "source": "Comprenez et exécutez le programme suivant (éventuellement voir slides 10, 11, 12 et 33 du cours)",
      "metadata": {}
    },
    {
      "cell_type": "code",
      "source": "i1: int = int(0b1010)\nprint('i1 vaut',i1)\n\ni1 = i1 + 0b0001\nprint('i1 vaut',i1)\n\ni2: int = 0xAF\nprint('i2 vaut',i2)\n\ni2 = i2 - 0x55\nprint('i2 vaut',i2)\n\nprint('i1 + i2 vaut',i2 + i1)\n\ns: str = str('\\x4A\\x75\\x6C\\x69\\x65\\x6E')\nprint(s)\n\ns = 'Hello ' + s + '\\x21'\nprint(s)\n\n#compréhension optionnelle:\ns = s + '\\x0DSalut'\nprint(s)\nprint(s[0])",
      "metadata": {
        "trusted": true
      },
      "execution_count": 6,
      "outputs": [
        {
          "name": "stdout",
          "text": "i1 vaut 10\ni1 vaut 11\ni2 vaut 175\ni2 vaut 90\ni1 + i2 vaut 101\nJulien\nHello Julien!\nSalut Julien!\nH\n",
          "output_type": "stream"
        }
      ]
    },
    {
      "cell_type": "markdown",
      "source": "## Variables de types prédéfinis et affichage",
      "metadata": {}
    },
    {
      "cell_type": "markdown",
      "source": "Écrire un programme qui déclare 2 variables: ```nom``` et ```prénom``` de type chaine de caractère et initialisée avec les valeurs de votre choix, par exemple nom=John, prénom=Doe.\n\nDéclarer une autre variable nommée ```age``` de type entier qui contient un age initialisé avec la valeur de votre choix, par exemple age=42.\n\nDéclarer une autre variable nommées ```enfants``` qui contient un ensemble de prénoms, par exemple \"titi\" et \"zaza\"\n\nÉcrire la ou les lignes permettant d'afficher le texte suivant, fonction des valeurs de vos variables: *John Doe is 42 years old. titi and zaza are her/his kids*",
      "metadata": {}
    },
    {
      "cell_type": "code",
      "source": "#Écrivez votre code ci-dessous\n",
      "metadata": {
        "trusted": true
      },
      "execution_count": 7,
      "outputs": []
    },
    {
      "cell_type": "markdown",
      "source": "## Variables de types structurés et non prédéfinis",
      "metadata": {}
    },
    {
      "cell_type": "markdown",
      "source": "### Affichage classique ",
      "metadata": {}
    },
    {
      "cell_type": "markdown",
      "source": "Définissez le type structuré ```Point2D``` vu en cours (slides 51 et 52) et déclarez 4 variables de type ```Point2D``` ayant les valeurs suivantes: (1;1) (4;2) (9;3) (16;4).\n\nAffichez un des points\n\nStockez ensuite les points dans une liste et affichez cette liste.\n\nVos allez ensuite créer 4 nouveaux points et faire en sorte que pour chaque point de valeur (x;y) la valeur du nouveau point soit (x;y<sup>2</sup>) \n\nStockez de nouveau les points dans une liste et les afficher",
      "metadata": {}
    },
    {
      "cell_type": "code",
      "source": "#Écrivez votre code ci-dessous\n\n",
      "metadata": {
        "trusted": true
      },
      "execution_count": 8,
      "outputs": []
    },
    {
      "cell_type": "markdown",
      "source": "### Utilisation d'opérations sur des types structurés non prédéfinis",
      "metadata": {}
    },
    {
      "cell_type": "markdown",
      "source": "Essayer de réaliser des opérations simples sur des variables de type ```Point2D```",
      "metadata": {}
    },
    {
      "cell_type": "code",
      "source": "#Écrivez votre code ci-dessous\n\n",
      "metadata": {
        "tags": [],
        "trusted": true
      },
      "execution_count": null,
      "outputs": []
    },
    {
      "cell_type": "markdown",
      "source": "&rarr; Les opérations ne sont pas définies par défaut sur un type non prédéfini car Python ne sait pas comment calculer sur ce type.\n\nIl est nécessaire de faire soi-même l'opération sur chacun des champs de la classe structurée.\n\nCréer un nouveau point qui est l'addition de deux points et l'afficher",
      "metadata": {}
    },
    {
      "cell_type": "code",
      "source": "#Écrivez votre code ci-dessous\n\n",
      "metadata": {
        "trusted": true
      },
      "execution_count": null,
      "outputs": []
    },
    {
      "cell_type": "markdown",
      "source": "Calculer le coefficient directeur de la droite passant par les deux points ```p2``` et ```p3``` et l'afficher\n * rappel: Dans un repère orthonormé du plan, si A et B de coordonnées respectives $(x_A ;y_A)$ et $(x_B;y_B)$ sont deux points tels que $x_A \\neq x_B$, alors, le coefficient directeur de la droite (AB) se calcule par la formule: $a=\\frac{y_B - y_A}{x_B - x_A}$",
      "metadata": {}
    },
    {
      "cell_type": "code",
      "source": "#Écrivez votre code ci-dessous\n\n",
      "metadata": {
        "trusted": true
      },
      "execution_count": null,
      "outputs": []
    },
    {
      "cell_type": "markdown",
      "source": "    \nCalculer la distance entre le point ```p1``` et le point ```p4``` et l'afficher.\n * rappel 1: Dans un repère orthonormé du plan, la distance entre deux points A et B de coordonnées respectives $(x_A ;y_A)$ et $(x_B;y_B)$ est donnée par :\n     $\\sqrt{(x_A - x_B)^2 + (y_A - y_B)^2}$\n * rappel 2: $\\sqrt{n}$ est égal à $n^{1/2}$ ",
      "metadata": {}
    },
    {
      "cell_type": "code",
      "source": "#Écrivez votre code ci-dessous\n\n",
      "metadata": {
        "trusted": true
      },
      "execution_count": null,
      "outputs": []
    },
    {
      "cell_type": "markdown",
      "source": "## Import d'un module intégré dans Python",
      "metadata": {
        "tags": []
      }
    },
    {
      "cell_type": "markdown",
      "source": "Il existe de nombreuses fonctions utilitaires qui évite de recoder tout depuis le début. En Python ces fonctions sont oragnisées en modules. Ce ne sont ni plus ni moins que des fichiers avec du code dedans. \n\nIl existe par exemple un module de math définissant les opérations courantes telles que apr exemple sinus, cosinus, factorielle. La documentation de ce module se trouve ici: https://docs.python.org/3/library/math.html. (La liste de tous les modules intégrés dans la distribution de python 3 se trouve ici:https://docs.python.org/3/library/ mais nous n'en utiliserons que très peu)  \n\nAfin d'utiliser les fonctions du module de math il suffit d'importer tout ce qui se trouve dans le module de math, c'est à dire d'écrire ```from math import *```\n\nDes exemples simples sont donnés ci dessous. Comprenez les et modifiez les",
      "metadata": {}
    },
    {
      "cell_type": "code",
      "source": "from math import *\n\ncosinusPi: float = cos(pi)\nprint(cosinusPi)\n\npiEnDegrees: float = degrees(pi)\nprint(piEnDegrees)\n\nsinusPiSur2: float = sin(pi/2)\nprint(sinusPiSur2)\n\n#attention rappelez vous que les opérations sur des floats sont toutes approximées:\nsinusPi: float = sin(pi)\nprint(sinusPi) #c'est petit mais pas 0 ! Erreur de calcul\n\n",
      "metadata": {
        "trusted": true
      },
      "execution_count": 9,
      "outputs": [
        {
          "name": "stdout",
          "text": "-1.0\n180.0\n1.0\n1.2246467991473532e-16\n",
          "output_type": "stream"
        }
      ]
    },
    {
      "cell_type": "markdown",
      "source": "## Import d'un module non intégré dans Python",
      "metadata": {}
    },
    {
      "cell_type": "markdown",
      "source": "Il peut être intéressant d'afficher des ```point2D``` dans un repère orthonormé. Bien sûr c'est plus spécifique que d'afficher au format texte. De plus le type ```Point2D``` ayant été defini par vous même il n'est pas possible que Python l'ait anticipé.\n\nVous allez donc utiliser une *fonction* que j'ai défini pour vous permettre d'afficher une liste de variable de type ```Point2D``` dans un repère orthonormé. Cette fonction est définie dans le fichier iiwHelper.py que vous pouvez voir dans le navigateur de fichiers à gauche de l'écran. Vous n'êtes pas obligé d'aller voir comment cette fonction est définie. Pour l'utiliser vous devez juste savoir deux choses:\n  1. il faut importer le contenu du fichier iiwHelper.py pour l'utiliser. Pour ce faire il est nécessaire d'écrire au debut de la cellule ```from iiwHelper import *```\n  2. elle s'appelle ```display2DPoints```, elle prend une liste de points en paramètre et les affiche.\n\nAfin de tester la bonne utilisation de la fonction ```display2DPoints```, affichez dans un repère orthonormé les 4 points initialement définis dans la question \"Affichage classique\" ainsi que les 4 points modifiés de la même question.",
      "metadata": {}
    },
    {
      "cell_type": "code",
      "source": "#Écrivez votre code ci-dessous\n\n\n",
      "metadata": {
        "trusted": true
      },
      "execution_count": null,
      "outputs": []
    },
    {
      "cell_type": "markdown",
      "source": "# Exercices Supplémentaires (vus en TD)",
      "metadata": {}
    },
    {
      "cell_type": "markdown",
      "source": "## Alléger le portefeuille\n\nLes développeurs d'un distributeur de billet décide de donner un nombre de billets minimum lorsque quelqu'un demande une somme d'argent.\nLa machine distribue des billets de 500, 200, 100, 50, 20, 10 et 5 €. Il y a toujours autant de billets que nécessaire.\nÉtant donné une somme demandée par un utilisateur (un entier naturel multiple de 5), calculer la quantité de chaque billet à lui donner.\n\nIndice: la division entière est votre amie.",
      "metadata": {}
    },
    {
      "cell_type": "code",
      "source": "#Écrivez votre code ci-dessous\n\n",
      "metadata": {},
      "execution_count": null,
      "outputs": []
    },
    {
      "cell_type": "markdown",
      "source": "## De base 10 à base 2\nSoit une variable ```entierBase10``` de type entier naturel et ayant la valeur de votre choix (je vous conseille de prendre une entier < 128).\nFaites une division entière de la valeur de \\texttt{entierBase10} par 2, gardez le résultat dans une variable ```temp``` et notez le reste tout à droite de la première ligne.\nFaites une division entière de la valeur de ```temp``` par 2 et stocker le résultat dans la variable ```temp```. Notez le reste à directement à gauche du reste précédent.\nRecommencez la dernière étape tant que ```temp``` est un entier naturel différent de 0. \n\nRegardez le nombre binaire formé par la suite de 0 et de 1 formée par la succession d'affichage des reste. Traduire ce nombre binaire en décimal.\n",
      "metadata": {}
    },
    {
      "cell_type": "code",
      "source": "#Écrivez votre code ci-dessous\n\n",
      "metadata": {},
      "execution_count": null,
      "outputs": []
    }
  ]
}